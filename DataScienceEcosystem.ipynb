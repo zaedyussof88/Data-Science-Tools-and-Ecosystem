{
 "cells": [
  {
   "cell_type": "markdown",
   "id": "2adcea46-3d41-4c4e-85ce-1b0c81f04859",
   "metadata": {},
   "source": [
    "# Data Science Tools and Ecosystem"
   ]
  },
  {
   "cell_type": "markdown",
   "id": "854e8406-78a7-48b8-acf1-0855729cbdb4",
   "metadata": {},
   "source": [
    "## Author\n",
    "\n",
    "Mohd Zaed Fahmi Bin Mohamed Yussof"
   ]
  },
  {
   "cell_type": "markdown",
   "id": "693f0d17-caa3-47a8-b0b3-fb58621707fb",
   "metadata": {},
   "source": [
    "In this notebook, Data Science Tools and Ecosystem are summarized."
   ]
  },
  {
   "cell_type": "markdown",
   "id": "6d9f21c4-5b56-49d5-ad4f-3fbe1981a104",
   "metadata": {},
   "source": [
    "**Objectives:**\n",
    "\n",
    "- List popular languages for Data Science\n",
    "- Describe key libraries used in Data Science\n",
    "- Demonstrate common Data Science tools\n",
    "- Show examples of basic arithmetic expressions in Python\n",
    "- Explain data analysis techniques"
   ]
  },
  {
   "cell_type": "markdown",
   "id": "c928a57c-8629-4fff-bfb1-690dfbbdd0b7",
   "metadata": {},
   "source": [
    "Some of the popular languages that Data Scientists use are:\n",
    "\n",
    "1. Python\n",
    "2. SQL\n",
    "3. R\n",
    "4. VBA\n",
    "5. JavaScript\n",
    "6. Scala"
   ]
  },
  {
   "cell_type": "markdown",
   "id": "0aeb9cb4-bc09-42e8-bb63-902621dc7bc7",
   "metadata": {},
   "source": [
    "Some of the commonly used libraries used by Data Scientists include:\n",
    "\n",
    "1. Pandas\n",
    "2. NumPy\n",
    "3. Matplotlib\n",
    "4. Seaborn\n",
    "5. Scikit-learn\n",
    "6. TensorFlow"
   ]
  },
  {
   "cell_type": "markdown",
   "id": "632910da-09b7-4cfb-82e0-5850498bffa3",
   "metadata": {},
   "source": [
    "| Data Science Tools         |\n",
    "|----------------------------|\n",
    "| Jupyter Notebook           |\n",
    "| RStudio                    |\n",
    "| Visual Studio Code (VS Code) |"
   ]
  },
  {
   "cell_type": "markdown",
   "id": "73de4504-39eb-4220-897e-5d6e367f9707",
   "metadata": {},
   "source": [
    "### Below are a few examples of evaluating arithmetic expressions in Python"
   ]
  },
  {
   "cell_type": "code",
   "execution_count": 1,
   "id": "3ff84c33-dc79-4b30-898f-3f0bda611d1a",
   "metadata": {},
   "outputs": [
    {
     "data": {
      "text/plain": [
       "17"
      ]
     },
     "execution_count": 1,
     "metadata": {},
     "output_type": "execute_result"
    }
   ],
   "source": [
    "# This is a simple arithmetic expression to multiply then add integers\n",
    "\n",
    "(3 * 4) + 5"
   ]
  },
  {
   "cell_type": "code",
   "execution_count": 2,
   "id": "66c8212b-5349-4848-8be4-0fcd95875045",
   "metadata": {},
   "outputs": [
    {
     "data": {
      "text/plain": [
       "3.3333333333333335"
      ]
     },
     "execution_count": 2,
     "metadata": {},
     "output_type": "execute_result"
    }
   ],
   "source": [
    "# This will convert 200 minutes to hours by dividing by 60\n",
    "\n",
    "200 / 60"
   ]
  }
 ],
 "metadata": {
  "kernelspec": {
   "display_name": "Python 3 (ipykernel)",
   "language": "python",
   "name": "python3"
  },
  "language_info": {
   "codemirror_mode": {
    "name": "ipython",
    "version": 3
   },
   "file_extension": ".py",
   "mimetype": "text/x-python",
   "name": "python",
   "nbconvert_exporter": "python",
   "pygments_lexer": "ipython3",
   "version": "3.12.7"
  }
 },
 "nbformat": 4,
 "nbformat_minor": 5
}
